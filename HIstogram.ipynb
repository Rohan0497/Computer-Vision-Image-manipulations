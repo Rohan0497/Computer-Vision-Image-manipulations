{
 "cells": [
  {
   "cell_type": "code",
   "execution_count": null,
   "id": "38d2fb64-8644-408c-8f8e-4bc2299f4b27",
   "metadata": {},
   "outputs": [],
   "source": [
    "pip install opencv-python"
   ]
  },
  {
   "cell_type": "code",
   "execution_count": null,
   "id": "848f0b43-69af-4017-ab6d-0465c02c09cf",
   "metadata": {},
   "outputs": [],
   "source": [
    "import numpy as np\n",
    "import matplotlib.pyplot as plt\n",
    "import cv2"
   ]
  },
  {
   "cell_type": "code",
   "execution_count": null,
   "id": "6e3ba379-7da4-4650-8591-715f77c63d42",
   "metadata": {},
   "outputs": [],
   "source": [
    "def ICV_Hist(image):    \n",
    "   \n",
    "\n",
    "    hist_samples =np.zeros((3,256)) \n",
    "   \n",
    "    # print(image.shape)\n",
    "    for k in range(image.shape[2]):\n",
    "        for i in range(image.shape[0]):\n",
    "            for j in range(image.shape[1]):\n",
    "                # adding 1 after finding an intensity to the index of the temp array\n",
    "                # eg : intensity 25 fouund add 1 in 25th index of the temp array\n",
    "                t = image[i][j][k]\n",
    "                hist_samples[k][t] += 1 \n",
    "    return hist_samples"
   ]
  },
  {
   "cell_type": "code",
   "execution_count": null,
   "id": "d268afa5-128d-41bb-8d17-457a904da7e4",
   "metadata": {},
   "outputs": [],
   "source": [
    "image = plt.imread('car-2.jpg')\n",
    "RGB_car=ICV_Hist(image)\n",
    "fig, ax = plt.subplots(1,2, figsize=(10,5));\n",
    "\n",
    "# RGB.shape\n",
    "\n",
    "plt.plot(RGB_car[0], color='r', label='Red channel')\n",
    "plt.plot(RGB_car[1], color='g', label='Green channel')\n",
    "plt.plot(RGB_car[2], color='b', label='Blue channel')\n",
    "ax[0].imshow(image);\n",
    "ax[1].plot(RGB_car[0],'r',RGB_car[1],'g',RGB_car[2],'b');\n",
    "plt.legend()\n",
    "# plt.savefig('Visualize_Hist.jpg')\n",
    "plt.show()"
   ]
  },
  {
   "cell_type": "code",
   "execution_count": null,
   "id": "289c9240-0cbe-43f0-b1ef-534ca6f66d2a",
   "metadata": {},
   "outputs": [],
   "source": [
    "def ICV_Video2frames(inputvideo):\n",
    "    frame =[]\n",
    "    cap = cv2.VideoCapture(inputvideo)\n",
    "    while (cap.isOpened()):\n",
    "        ret,a = cap.read()\n",
    "\n",
    "        if ret == False:\n",
    "            break\n",
    "        frame.append(a)\n",
    "    cap.release()\n",
    "    return frame\n",
    "frame = ICV_Video2frames('DatasetB.avi')"
   ]
  },
  {
   "cell_type": "code",
   "execution_count": null,
   "id": "6e0ebcaf-eb7d-4b02-89fa-3b1da1f62b2c",
   "metadata": {
    "tags": []
   },
   "outputs": [],
   "source": [
    "histogram_frames = []\n",
    "for i in range(len(frame)):\n",
    "# for i in range(0,10):\n",
    "    RGB_frame = ICV_Hist(frame[i])\n",
    "    histogram_frames.append(RGB_frame)\n",
    "    fig, ax = plt.subplots(1,2, figsize=(10,5));\n",
    "    plt.plot(RGB_frame[0], color='r', label='Red channel')\n",
    "    plt.plot(RGB_frame[1], color='g', label='Green channel')\n",
    "    plt.plot(RGB_frame[2], color='b', label='Blue  channel')\n",
    "    plt.legend()\n",
    "    ax[0].imshow(frame[i]);\n",
    "    ax[1].plot(RGB_frame[0],'r',RGB_frame[1],'g',RGB_frame[2],'b');\n",
    "    plt.savefig('framefile'+ str(i) +'.jpg')"
   ]
  },
  {
   "cell_type": "code",
   "execution_count": null,
   "id": "40e87f01-a793-4c29-906b-f80ac24bd739",
   "metadata": {},
   "outputs": [],
   "source": [
    "def ICV_hist_intersection(frame1,frame2):\n",
    "    new_RGB = np.zeros((3,len(histogram_frames)))\n",
    "    summ=np.zeros((3))\n",
    "    RGB = ICV_Hist(frame1)\n",
    "    RGB1 = ICV_Hist(frame2)\n",
    "    for k in range(frame1.shape[2]):\n",
    "        \n",
    "        for j in range(256):  \n",
    "            new_RGB[k][j] = int(min(RGB[k][j],RGB1[k][j]))\n",
    "        #summing all the values in each channel\n",
    "        summ[k] = sum(new_RGB[k])\n",
    "        # n_sum[k] = \n",
    "\n",
    "    return summ,new_RGB\n",
    "\n",
    "\n",
    "intersection_frames_list=[]\n",
    "summation = []\n",
    "for i in range(len(histogram_frames)-1):\n",
    "    # norm_sum_min,intersection_normalized_frames = ICV_hist_intersection(normalized_frames[i],normalized_frames[i+1])\n",
    "    sum_min,intersection_frames = ICV_hist_intersection(frame[i],frame[i+1])\n",
    "    # summation_normalized.append(norm_sum_min)\n",
    "    intersection_frames_list.append(intersection_frames)\n",
    "    summation.append(sum_min)\n",
    "summation = np.array(summation)"
   ]
  },
  {
   "cell_type": "code",
   "execution_count": null,
   "id": "63ba7cbb-123a-4734-a619-6925af1f20bf",
   "metadata": {},
   "outputs": [],
   "source": [
    "# plt.plot(sum_min)\n",
    "plt.plot(intersection_frames_list[0][0],'r',intersection_frames_list[0][1],'g',intersection_frames_list[0][2],'b');"
   ]
  },
  {
   "cell_type": "code",
   "execution_count": null,
   "id": "7243f375-728b-4bd6-9b11-73461c101bf3",
   "metadata": {},
   "outputs": [],
   "source": [
    "# fig,ax = plt.subplots(1,4,figsize=(15,5))\n",
    "# ax[0].plot(summation[:,0],'r');\n",
    "# ax[1].plot(summation[:,1],'g');\n",
    "# ax[2].plot(summation[:,2],'b');\n",
    "# ax[3].plot(summation[0],'r',summation[1],'g',summation[2],'b');\n",
    "plt.plot(summation[0],'r',summation[1],'g',summation[2],'b');\n",
    "    # plt.plot(summation[:,i],color = col)\n",
    "plt.plot(summation[:,0], color='r', label='Red channel')\n",
    "plt.plot(summation[:,1], color='g', label='Green channel')\n",
    "plt.plot(summation[:,2], color='b', label='Blue channel')\n",
    "plt.legend()\n",
    "# plt.savefig('INtersection_hist.jpg')\n",
    "\n",
    "plt.show()"
   ]
  },
  {
   "cell_type": "markdown",
   "id": "688a3a1b-8c94-4406-97e7-0dbe0088f553",
   "metadata": {},
   "source": [
    "## Normalize"
   ]
  },
  {
   "cell_type": "code",
   "execution_count": null,
   "id": "74c9f347-a643-4698-b1ae-e4a5f33d37e0",
   "metadata": {},
   "outputs": [],
   "source": [
    "def ICV_normalize(summation):\n",
    "    minr,ming,minb=min(summation[:,0]),min(summation[:,1]),min(summation[:,2])\n",
    "    maxr,maxg,maxb = max(summation[:,0]),max(summation[:,1]),max(summation[:,2])\n",
    "    r,g,b=np.zeros((len(summation))),np.zeros((len(summation))),np.zeros((len(summation)))\n",
    "    rl=[]\n",
    "    gl=[]\n",
    "    bl=[]\n",
    "    rgb = np.zeros((3,len(summation)))\n",
    "    for i in range(len(summation)):\n",
    "        r = (summation[:,0][i]-minr)/(maxr-minr)\n",
    "\n",
    "        g = (summation[:,1][i]-ming)/(maxg-ming)\n",
    "        b = (summation[:,0][i]-minb)/(maxb-minb)\n",
    "        rl.append(r)\n",
    "        gl.append(g)\n",
    "        bl.append(b)\n",
    "    return rl,gl,bl"
   ]
  },
  {
   "cell_type": "code",
   "execution_count": null,
   "id": "751b18f9-d891-4cbb-a545-fcced94cdb80",
   "metadata": {},
   "outputs": [],
   "source": [
    "red,green,blue= ICV_normalize(summation)"
   ]
  },
  {
   "cell_type": "code",
   "execution_count": null,
   "id": "a972c555-5d11-4d3e-95f8-672652281dca",
   "metadata": {},
   "outputs": [],
   "source": [
    "# plt.plot(red,'r',green,'g',blue,'b')\n",
    "fig,ax = plt.subplots(1,4,figsize=(15,5))\n",
    "ax[0].plot(red,'r');\n",
    "ax[1].plot(green,'g');\n",
    "ax[2].plot(blue,'b');\n",
    "ax[3].plot(red,'r',green,'g',blue,'b');\n",
    "\n",
    "    # plt.plot(summation[:,i],color = col)\n",
    "plt.plot(red, color='r', label='Red channel')\n",
    "plt.plot(green, color='g', label='Green channel')\n",
    "plt.plot(blue, color='b', label='Blue channel')\n",
    "plt.legend()\n",
    "# plt.savefig('Normalized_intersection_hist.jpg')\n",
    "plt.show()"
   ]
  },
  {
   "cell_type": "code",
   "execution_count": null,
   "id": "3a277c4d-b7d1-4057-9432-33db57a9cd38",
   "metadata": {},
   "outputs": [],
   "source": []
  },
  {
   "cell_type": "code",
   "execution_count": null,
   "id": "43ff5608-df6f-4403-967d-07c771a348c4",
   "metadata": {},
   "outputs": [],
   "source": []
  },
  {
   "cell_type": "code",
   "execution_count": null,
   "id": "320ae2b2-01a5-4fa3-8138-ab3be7a8b1a9",
   "metadata": {},
   "outputs": [],
   "source": []
  },
  {
   "cell_type": "code",
   "execution_count": null,
   "id": "5fe3dd5a-0ba8-43b9-94a9-12011ea4095a",
   "metadata": {},
   "outputs": [],
   "source": []
  }
 ],
 "metadata": {
  "kernelspec": {
   "display_name": "Python 3 (ipykernel)",
   "language": "python",
   "name": "python3"
  },
  "language_info": {
   "codemirror_mode": {
    "name": "ipython",
    "version": 3
   },
   "file_extension": ".py",
   "mimetype": "text/x-python",
   "name": "python",
   "nbconvert_exporter": "python",
   "pygments_lexer": "ipython3",
   "version": "3.10.6"
  }
 },
 "nbformat": 4,
 "nbformat_minor": 5
}
