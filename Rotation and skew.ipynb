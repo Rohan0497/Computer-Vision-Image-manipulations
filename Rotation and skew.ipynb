{
 "cells": [
  {
   "cell_type": "code",
   "execution_count": null,
   "id": "1cb84533-3c38-4f68-a9d9-ca47a2c20687",
   "metadata": {},
   "outputs": [],
   "source": [
    "import numpy as np\n",
    "import matplotlib.pyplot as plt"
   ]
  },
  {
   "cell_type": "code",
   "execution_count": null,
   "id": "ab0e1a28-2080-4eca-9230-0775f2411cdd",
   "metadata": {},
   "outputs": [],
   "source": [
    "image = plt.imread(\"name.jpg\")\n",
    "image_show = plt.imshow(image)\n",
    "# image.shape"
   ]
  },
  {
   "cell_type": "code",
   "execution_count": null,
   "id": "547fe06b-b5a1-4a3a-8315-3f28da11d300",
   "metadata": {},
   "outputs": [],
   "source": [
    "def ICV_rotation(image,deg):\n",
    "\n",
    "    height_og_image,width_og_image,_ = image.shape\n",
    "    # print('Shape of Original image {}'.format(image.shape))\n",
    "    #Changing degree to radian\n",
    "    #Defining/initializing rotation matrix\n",
    "    \n",
    "    radian = (-deg/180)*np.pi  \n",
    "    rotate_matrix = np.array([[np.cos(radian), -np.sin(radian)],[np.sin(radian), np.cos(radian)]])\n",
    "    \n",
    "    \n",
    "    # Calculating the dimension of the rotated image using formula of rotation \n",
    "    # Using the dimensions  for creating canvas to fit the rotated image\n",
    "    \n",
    "    rotated_img_height,rotated_img_width = (round(abs(height_og_image*np.cos(radian))) + round(abs(width_og_image*np.sin(radian)))),(round(abs(width_og_image*np.cos(radian))) + round(abs(height_og_image*np.sin(radian)))) \n",
    "    rotated_image = np.zeros((rotated_img_height,rotated_img_width,3),dtype = 'uint8')\n",
    "    # print('Shape of Canvas {}'.format(rotated_image.shape))\n",
    "\n",
    "    # multiplying   image with rotation matrix to get the rotated image\n",
    "\n",
    "    for i in range(rotated_img_height):\n",
    "        for j in range(rotated_img_width):\n",
    "            x_dash,y_dash = np.dot(rotate_matrix,np.array(([j-rotated_img_width//2],[i-rotated_img_height//2])))\n",
    "\n",
    "            # Adding offset to move the image to the center\n",
    "            \n",
    "            y_dash += height_og_image//2\n",
    "            x_dash += width_og_image//2\n",
    "            \n",
    "            # Clipping the values to avoid muliple appearance of the image \n",
    "                \n",
    "            if (x_dash >= 0 and y_dash >= 0 and x_dash < width_og_image and y_dash < height_og_image):\n",
    "                # Inverse mapping to fix aliasing effect\n",
    "                \n",
    "                rotated_image[i][j][:] = image[int(y_dash)][int(x_dash)][:]\n",
    "\n",
    "    return rotated_image\n",
    "\n"
   ]
  },
  {
   "cell_type": "code",
   "execution_count": null,
   "id": "0835f350-74a4-4f5b-b16d-e218ef28aaba",
   "metadata": {},
   "outputs": [],
   "source": [
    "def ICV_skew(image,deg):\n",
    "    height_og_image,width_og_image,_ = image.shape\n",
    "    # print('Shape of Original image {}'.format(image.shape))\n",
    "    \n",
    "    #Changing degree to radian\n",
    "    #Defining/initializing skew matrix\n",
    "    \n",
    "    radian = (deg/180)*np.pi #Changing degree to radian\n",
    "    skew_matrix = np.array([[1,1/np.tan(radian)],[0,1]])\n",
    "    # print(skew_matrix)\n",
    "    \n",
    "    # since height is constant as per skew matrix formula we only calculate the new width and keeping the height same\n",
    "    new_width = round(width_og_image + (height_og_image * (1 / np.tan(radian))))\n",
    "    skewed_image = np.zeros((height_og_image,new_width,3),dtype = 'uint8')\n",
    "    # print('Shape of Canvas {}'.format(skewed_image.shape))\n",
    "    # print(skewed_image.shape)\n",
    "    \n",
    "    #Multiplying skew matrix with original image to get skewed image\n",
    "    for i in range(height_og_image):\n",
    "        for j in range(width_og_image):\n",
    "           \n",
    "            x_dash,y_dash = np.dot(skew_matrix,np.array(([j],[i])))\n",
    "            \n",
    "            #Only offsetting width as height is constant\n",
    "            x_dash -= new_width \n",
    "            \n",
    "            #Clipping to avoid multiple occurence of the image\n",
    "            if (x_dash < skewed_image.shape[1] and y_dash < skewed_image.shape[0]):\n",
    "                skewed_image[int(y_dash)][int(x_dash)][:] = image[i][j][:]\n",
    "    # print('Skewed image {}'.format(skewed_image.shape))\n",
    "    return skewed_image"
   ]
  },
  {
   "cell_type": "markdown",
   "id": "b58e6872-bac0-4be2-9852-4fa75a05327a",
   "metadata": {},
   "source": [
    "## Output of Rotation"
   ]
  },
  {
   "cell_type": "code",
   "execution_count": null,
   "id": "6a6c618e-1b28-4366-8685-26fba41778d3",
   "metadata": {},
   "outputs": [],
   "source": [
    "image = plt.imread(\"name.jpg\")\n",
    "dg_list_rot = [30, 60, 120 , -50]\n",
    "img_list = []\n",
    "for i in dg_list_rot:\n",
    "    op = ICV_rotation(image,i)\n",
    "    img_list.append((op.astype('uint8')))\n",
    "fig, ax = plt.subplots(2,2)\n",
    "ax[0,0].imshow(img_list[0])\n",
    "# ax[0,1].set_title('image rotated by 30 degrees')\n",
    "ax[0,1].imshow(img_list[1])\n",
    "# ax[0,1].set_title('image rotated by 60 degrees')\n",
    "ax[1,0].imshow(img_list[2])\n",
    "# ax[1,0].set_title('image rotated by 120 degrees')\n",
    "\n",
    "ax[1,1].imshow(img_list[3])\n",
    "# ax[1,1].set_title('image rotated by -50 degrees')\n"
   ]
  },
  {
   "cell_type": "markdown",
   "id": "d54c5529-b656-4276-93a2-8c282d83e5ca",
   "metadata": {},
   "source": [
    "## Output of Skewness"
   ]
  },
  {
   "cell_type": "code",
   "execution_count": null,
   "id": "7729bbe9-8290-4abb-905e-904c650aea39",
   "metadata": {},
   "outputs": [],
   "source": [
    "dg_list_skew = [10, 40, 60]\n",
    "img_list = []\n",
    "for i in dg_list_skew:\n",
    "    op = ICV_skew(image,i)\n",
    "    img_list.append((op.astype('uint8')))\n",
    "fig, ax = plt.subplots(2,2)\n",
    "ax[0,0].imshow(image)\n",
    "# ax[0,1].set_title('image rotated by 30 degrees')\n",
    "ax[0,1].imshow(img_list[0])\n",
    "# ax[0,1].set_title('image rotated by 60 degrees')\n",
    "ax[1,0].imshow(img_list[1])\n",
    "# ax[1,0].set_title('image rotated by 120 degrees')\n",
    "\n",
    "ax[1,1].imshow(img_list[2])\n",
    "# ax[1,1].set_title('image rotated by -50 degrees')"
   ]
  },
  {
   "cell_type": "markdown",
   "id": "b23d76a8-b005-4d38-8dcd-38c9460acdc0",
   "metadata": {},
   "source": [
    "### Rotate the image by θ1 = 20 clockwise and then skew the result by θ2 = 50. "
   ]
  },
  {
   "cell_type": "code",
   "execution_count": null,
   "id": "990ba1c1-1136-4e42-a216-03e7de5d1591",
   "metadata": {},
   "outputs": [],
   "source": [
    "rotate_10 = ICV_rotation(image,10)\n",
    "plt.imshow(ICV_skew(rotate_10,50))"
   ]
  },
  {
   "cell_type": "markdown",
   "id": "d6bd7029-3aa8-43ed-ad61-1432e4f828d3",
   "metadata": {},
   "source": [
    "### Skew the image by θ2 = 50 and then rotate the result by θ1 = 20 clockwise"
   ]
  },
  {
   "cell_type": "code",
   "execution_count": null,
   "id": "2f5e3f1c-888a-4470-845d-8949adbca750",
   "metadata": {},
   "outputs": [],
   "source": [
    "skew_50 = ICV_skew(image,50)\n",
    "plt.imshow(ICV_rotation(skew_50,20))"
   ]
  },
  {
   "cell_type": "code",
   "execution_count": null,
   "id": "029eec9d-713e-40dc-829f-c17a091418d2",
   "metadata": {},
   "outputs": [],
   "source": []
  }
 ],
 "metadata": {
  "kernelspec": {
   "display_name": "Python 3 (ipykernel)",
   "language": "python",
   "name": "python3"
  },
  "language_info": {
   "codemirror_mode": {
    "name": "ipython",
    "version": 3
   },
   "file_extension": ".py",
   "mimetype": "text/x-python",
   "name": "python",
   "nbconvert_exporter": "python",
   "pygments_lexer": "ipython3",
   "version": "3.10.6"
  }
 },
 "nbformat": 4,
 "nbformat_minor": 5
}
