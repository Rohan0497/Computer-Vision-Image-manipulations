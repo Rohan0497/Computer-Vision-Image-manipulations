{
 "cells": [
  {
   "cell_type": "code",
   "execution_count": null,
   "id": "cfc9700c-bd06-4eb4-b2d1-a79568761814",
   "metadata": {},
   "outputs": [],
   "source": [
    "import numpy as np\n",
    "import matplotlib.pyplot as plt"
   ]
  },
  {
   "cell_type": "code",
   "execution_count": null,
   "id": "ccacb4a4-3b02-4ac9-bee4-14bdae4e0941",
   "metadata": {},
   "outputs": [],
   "source": [
    "def ICV_convolution(image, kernel):\n",
    "\n",
    "    height,width,channel = image.shape\n",
    "\n",
    "    kernel_height = kernel.shape[0]\n",
    "    kernel_width = kernel.shape[1]\n",
    "    convolved_image = np.zeros(image.shape,dtype='uint8')\n",
    "\n",
    "    if np.sum(kernel) == 0:\n",
    "        kernel = kernel\n",
    "    else:\n",
    "        kernel = kernel/np.sum(kernel)\n",
    "    \n",
    "    # print(kernel)\n",
    "    #for loop for keepimg track of channels\n",
    "    for t in range(channel): \n",
    "        # kernel_height//2,kernel_height//2 were taken as starting index and last index was subtracted by kernel_width,kernel_height to fix the out of bound issue\n",
    "        # the kernel was going outside the image boundary hence capping it\n",
    "        for i in range(kernel_height//2,width - kernel_width): \n",
    "            for j in range(kernel_height//2,height - kernel_height):\n",
    "\n",
    "                temp_variable = int(np.sum(np.multiply(kernel , image[j-1:j+2, i-1: i + 2,t])))\n",
    "                #the output shows random dots of rgb as the values after multiplying with the kernel go above 255 \n",
    "                #also it shows a lot of noise as the values go below 0 as well\n",
    "                #hence capping the values to 0 if they are less than 0 and 255 if they are more than 255\n",
    "                if temp_variable<0:\n",
    "                    temp_variable=0\n",
    "                if temp_variable>255:\n",
    "                    temp_variable = 255\n",
    "                \n",
    "                convolved_image[j][i][t] = temp_variable \n",
    "\n",
    "    return convolved_image"
   ]
  },
  {
   "cell_type": "code",
   "execution_count": null,
   "id": "40496a0d-da94-407d-b51c-ab0885b37405",
   "metadata": {},
   "outputs": [],
   "source": [
    "kernelB = np.array([[0, 1, 0],[1, -4, 1],[0, 1, 0]])\n",
    "kernelA = np.array([[1, 2, 1],[2, 4, 2],[1, 2, 1]])\n",
    "# kernel5 = np.array([[0,  0,  0,1, 0],[1,  1,  0,1, 0],[0,  0,  0,1, 0],[1, 2, 1,1, 0],[1, 2, 1,1, 0]])\n",
    "kernel_avg = np.array([[1,1,1],[1,1,1],[1,1,1]])"
   ]
  },
  {
   "cell_type": "code",
   "execution_count": null,
   "id": "0d878124-7cbd-4c6a-83d7-4b613e745503",
   "metadata": {},
   "outputs": [],
   "source": [
    "image = plt.imread('car-2.jpg')\n",
    "convolve_img=ICV_convolution(image,kernelB)\n",
    "convolve_img1=ICV_convolution(image,kernelA)\n",
    "fig, ax = plt.subplots(1,3)\n",
    "ax[0].imshow(image)\n",
    "ax[0].set_title('Original Image')\n",
    "ax[1].imshow(convolve_img)\n",
    "ax[1].set_title('KernelB')\n",
    "ax[2].imshow(convolve_img1)\n",
    "ax[2].set_title('KernelA')\n",
    "\n",
    "# plt.savefig('Convolve1.jpg')\n"
   ]
  },
  {
   "cell_type": "code",
   "execution_count": null,
   "id": "be7ff492-1889-4344-a485-7a713762eead",
   "metadata": {},
   "outputs": [],
   "source": [
    "convolve_avg=ICV_convolution(image,kernel_avg)\n",
    "plt.imshow(convolve_avg)\n",
    "# plt.savefig('Convolve_avg.jpg')"
   ]
  },
  {
   "cell_type": "code",
   "execution_count": null,
   "id": "966bbb2f-21e4-4731-ace6-8151cbefc0e7",
   "metadata": {},
   "outputs": [],
   "source": [
    "convolve_A=ICV_convolution(image,kernelA)\n",
    "convolve_AA=ICV_convolution(convolve_A,kernelA)\n",
    "plt.imshow(convolve_AA)\n",
    "\n",
    "# plt.savefig('Convolve_AA.jpg')"
   ]
  },
  {
   "cell_type": "code",
   "execution_count": null,
   "id": "7c083c7b-a83b-4520-adb6-27a5d68d7454",
   "metadata": {},
   "outputs": [],
   "source": [
    "convolve_A=ICV_convolution(image,kernelA)\n",
    "convolve_AB=ICV_convolution(convolve_A,kernelB)\n",
    "plt.imshow(convolve_AB)\n",
    "# plt.savefig('Convolve_AB.jpg')"
   ]
  },
  {
   "cell_type": "code",
   "execution_count": null,
   "id": "61dbf6a2-68a0-47ce-bbcf-188a0ebaf86c",
   "metadata": {},
   "outputs": [],
   "source": [
    "kernelB = np.array([[0, 1, 0],[1, -4, 1],[0, 1, 0]])\n",
    "kernelA = np.array([[1, 2, 1],[2, 4, 2],[1, 2, 1]])\n",
    "convolve_B=ICV_convolution(image,kernelB)\n",
    "convolve_BA=ICV_convolution(convolve_B,kernelA)\n",
    "plt.imshow(convolve_BA)\n",
    "# plt.savefig('Convolve_BA.jpg')"
   ]
  },
  {
   "cell_type": "code",
   "execution_count": null,
   "id": "f3929add-e2e9-4328-bd62-28f845de9688",
   "metadata": {},
   "outputs": [],
   "source": [
    "# plt.savefig('Convolve1.jpg')\n",
    "\n",
    "\n",
    "\n"
   ]
  },
  {
   "cell_type": "code",
   "execution_count": null,
   "id": "8e84e138-9928-42f4-9baf-761c4f9729c5",
   "metadata": {},
   "outputs": [],
   "source": []
  }
 ],
 "metadata": {
  "kernelspec": {
   "display_name": "Python 3 (ipykernel)",
   "language": "python",
   "name": "python3"
  },
  "language_info": {
   "codemirror_mode": {
    "name": "ipython",
    "version": 3
   },
   "file_extension": ".py",
   "mimetype": "text/x-python",
   "name": "python",
   "nbconvert_exporter": "python",
   "pygments_lexer": "ipython3",
   "version": "3.10.6"
  }
 },
 "nbformat": 4,
 "nbformat_minor": 5
}
